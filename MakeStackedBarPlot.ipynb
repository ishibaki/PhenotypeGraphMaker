{
 "cells": [
  {
   "cell_type": "markdown",
   "metadata": {},
   "source": [
    "# Phenotype Grapher"
   ]
  },
  {
   "cell_type": "code",
   "execution_count": null,
   "metadata": {
    "collapsed": true
   },
   "outputs": [],
   "source": [
    "# デフォルトで以下は読み込まれているのでナシでもOK\n",
    "# %matplotlib inline\n",
    "# import matplotlib.pyplot as plt\n",
    "# import numpy as np\n",
    "# import pandas as pd"
   ]
  },
  {
   "cell_type": "code",
   "execution_count": null,
   "metadata": {
    "scrolled": false
   },
   "outputs": [],
   "source": [
    "df = pd.read_csv(\"./sample_data.csv\", index_col=0).T\n",
    "\n",
    "# n数をリストにしておく\n",
    "df_total = list(df.sum())\n",
    "\n",
    "df.T"
   ]
  },
  {
   "cell_type": "code",
   "execution_count": null,
   "metadata": {},
   "outputs": [],
   "source": [
    "# 割合に変換\n",
    "df2 = df.div(df.sum()).T\n",
    "df2 = df2 * 100\n",
    "df2"
   ]
  },
  {
   "cell_type": "code",
   "execution_count": null,
   "metadata": {},
   "outputs": [],
   "source": [
    "# 図の解像度の整備\n",
    "graph_height = 6\n",
    "figsize = (1.5/7*graph_height*len(df_total), graph_height)\n",
    "\n",
    "# フォント周りの整備\n",
    "import matplotlib as mpl\n",
    "(fontname, fontsize) = ('Source Sans Pro', 8/3*graph_height)\n",
    "mpl.rcParams['font.family'] = fontname\n",
    "\n",
    "# 積み上げ棒グラフの作成\n",
    "ax = df2.plot(kind=\"bar\", stacked=True, width=0.7, figsize=figsize, legend=False, ylim=(0,100), fontsize=fontsize, color=['white', 'grey', 'orangered', 'black'], edgecolor='black')\n",
    "ax.set_ylabel(\"Frequency (%)\", fontsize=10/3*graph_height)\n",
    "\n",
    "# グラフの囲み線の内，上と右の部分を削除\n",
    "plt.gca().spines['right'].set_visible(False)\n",
    "plt.gca().spines['top'].set_visible(False)\n",
    "\n",
    "# 横軸ラベルを傾け，haでずれを寄せる\n",
    "ax.set_xticklabels(ax.xaxis.get_majorticklabels(), rotation=30, ha=\"right\")\n",
    "\n",
    "# 目盛りが鬱陶しいので白色にしておく\n",
    "plt.gca().xaxis.set_tick_params(length=8, color=\"white\")\n",
    "\n",
    "# fig legendを設定\n",
    "if len(df_total) > 5:\n",
    "    plt.legend(loc=(0,1.2), fontsize=fontsize, mode=\"expand\", ncol=4, frameon=False)\n",
    "else:\n",
    "    plt.legend(loc=(1.1,0.3), fontsize=fontsize, mode=\"expand\", ncol=1, frameon=False)\n",
    "\n",
    "# n数を置く\n",
    "offset = {\"x\": 0, \"y\": 110}\n",
    "plt.text(x=-0.5, y=offset[\"y\"], s=\"n =\", fontsize=2.5*graph_height, ha='right')\n",
    "for total_num, x in zip(df_total, range(len(df_total))):\n",
    "    if pd.isnull(total_num):\n",
    "        plt.text(x = x - offset[\"x\"], y = offset[\"y\"], s = \"0\", fontsize = 2.5*graph_height, ha = \"center\")\n",
    "    else:\n",
    "        plt.text(x = x - offset[\"x\"], y = offset[\"y\"], s = str(int(total_num)), fontsize = 2.5*graph_height, ha = \"center\")\n",
    "\n",
    "\n",
    "# プロット\n",
    "plt.show()"
   ]
  },
  {
   "cell_type": "code",
   "execution_count": null,
   "metadata": {
    "collapsed": true
   },
   "outputs": [],
   "source": [
    "# 使えるフォントの確認\n",
    "# import matplotlib.font_manager\n",
    "# print([f.name for f in matplotlib.font_manager.fontManager.ttflist])"
   ]
  }
 ],
 "metadata": {
  "kernelspec": {
   "display_name": "Python 3",
   "language": "python",
   "name": "python3"
  },
  "language_info": {
   "codemirror_mode": {
    "name": "ipython",
    "version": 3
   },
   "file_extension": ".py",
   "mimetype": "text/x-python",
   "name": "python",
   "nbconvert_exporter": "python",
   "pygments_lexer": "ipython3",
   "version": "3.5.3"
  }
 },
 "nbformat": 4,
 "nbformat_minor": 2
}
