{
 "cells": [
  {
   "cell_type": "markdown",
   "metadata": {},
   "source": [
    "# Phenotype Grapher"
   ]
  },
  {
   "cell_type": "code",
   "execution_count": null,
   "metadata": {
    "collapsed": true
   },
   "outputs": [],
   "source": [
    "# デフォルトで以下は読み込まれているのでナシでもOK\n",
    "# %matplotlib inline\n",
    "# import matplotlib.pyplot as plt\n",
    "# import numpy as np\n",
    "# import pandas as pd"
   ]
  },
  {
   "cell_type": "code",
   "execution_count": null,
   "metadata": {
    "scrolled": false
   },
   "outputs": [],
   "source": [
    "df = pd.read_csv(\"./sample_data.csv\", index_col=0).T\n",
    "# なお，データはHozumi et al.とNakamura et al.から取ってきているので悪しからず\n",
    "\n",
    "# n数をリストにしておく\n",
    "df_total = list(df.sum())\n",
    "\n",
    "df.T # データにおかしなところが無いか最終チェック"
   ]
  },
  {
   "cell_type": "code",
   "execution_count": null,
   "metadata": {},
   "outputs": [],
   "source": [
    "# 割合に変換\n",
    "df2 = df.div(df.sum()).T\n",
    "df2 = df2 * 100\n",
    "df2"
   ]
  },
  {
   "cell_type": "code",
   "execution_count": null,
   "metadata": {},
   "outputs": [],
   "source": [
    "# 図を作る前に，サイズの調整\n",
    "\n",
    "graph_width = 15 # グラフエリアの横幅\n",
    "graph_height = 12 # グラフエリアの高さ\n",
    "\n",
    "figsize = (graph_width, graph_height) # まとめただけなので気にしないで\n",
    "\n",
    "xlabel_fontsize = 45 # x軸ラベルの文字の大きさ\n",
    "ylabel_fontsize = 14 # y軸ラベルの文字の大きさ\n",
    "legend_fontsize = 40 # 凡例の文字の大きさ\n",
    "total_num_fontsize = 40 # N数表示の文字の大きさ\n",
    "\n",
    "# 凡例の位置は，7系統以上だと上に置いたほうが分かり易い気がする\n",
    "# 一方で6系統以下だと上に置くと詰まりすぎるので横に置こう\n",
    "\n",
    "legend_loc_morethan7 = (0.03,1.2) # 7系統以上の時の凡例の位置\n",
    "legend_loc_lessthan6 = (1, 0.2) # 6系統以下の時の凡例の位置\n",
    "\n",
    "# 棒グラフの幅を設定\n",
    "bar_width = 0.7\n",
    "\n",
    "# y軸に制限をかける場合はここをいじる\n",
    "# 基本は(0, 100)で良いはず\n",
    "ylim = (0, 100)\n",
    "\n",
    "# フォントの整備\n",
    "import matplotlib as mpl\n",
    "mpl.rcParams['font.family'] = 'Source Sans Pro' # 好みのフォントを使おう\n",
    "\n",
    "# 使えるフォントの確認は以下から\n",
    "# import matplotlib.font_manager\n",
    "# print([f.name for f in matplotlib.font_manager.fontManager.ttflist])\n",
    "\n",
    "# 以下からやっとグラフの作成に取り掛かるよ\n",
    "\n",
    "# 積み上げ棒グラフの作成\n",
    "ax = df2.plot(kind=\"bar\", stacked=True, width=bar_width, figsize=figsize, ylim=ylim, fontsize=xlabel_fontsize, color=['white', 'grey', 'orangered', 'black'], edgecolor='black')\n",
    "ax.set_ylabel(\"Frequency (%)\", fontsize=10/3*ylabel_fontsize)\n",
    "\n",
    "# グラフの囲み線の内，上と右の部分を削除\n",
    "plt.gca().spines['right'].set_visible(False)\n",
    "plt.gca().spines['top'].set_visible(False)\n",
    "\n",
    "# 横軸ラベルを傾け，haでずれを寄せる\n",
    "ax.set_xticklabels(ax.xaxis.get_majorticklabels(), rotation=45, ha=\"right\")\n",
    "\n",
    "# 目盛りが鬱陶しいので白色にしておく\n",
    "# lengthは適宜変えよう\n",
    "plt.gca().xaxis.set_tick_params(length=20, color=\"white\")\n",
    "\n",
    "# fig legendを設定\n",
    "if len(df_total) > 6:\n",
    "    plt.legend(loc=legend_loc_morethan7, fontsize=legend_fontsize, ncol=4, frameon=False)\n",
    "else:\n",
    "    plt.legend(loc=legend_loc_lessthan6, fontsize=legend_fontsize, ncol=1, frameon=False)\n",
    "\n",
    "# n数を置く\n",
    "n_loc = {\"x\": 0, \"y\": 110}\n",
    "plt.text(x=-0.5, y=n_loc[\"y\"], s=\"n =\", fontsize=total_num_fontsize, ha='right')\n",
    "for total_num, x in zip(df_total, range(len(df_total))):\n",
    "    if pd.isnull(total_num):\n",
    "        plt.text(x = x - n_loc[\"x\"], y = n_loc[\"y\"], s = \"0\", fontsize = total_num_fontsize, ha = \"center\")\n",
    "    else:\n",
    "        plt.text(x = x - n_loc[\"x\"], y = n_loc[\"y\"], s = str(int(total_num)), fontsize = total_num_fontsize, ha = \"center\")\n",
    "\n",
    "\n",
    "# プロット\n",
    "plt.show()"
   ]
  }
 ],
 "metadata": {
  "kernelspec": {
   "display_name": "Python 3",
   "language": "python",
   "name": "python3"
  },
  "language_info": {
   "codemirror_mode": {
    "name": "ipython",
    "version": 3
   },
   "file_extension": ".py",
   "mimetype": "text/x-python",
   "name": "python",
   "nbconvert_exporter": "python",
   "pygments_lexer": "ipython3",
   "version": "3.5.3"
  }
 },
 "nbformat": 4,
 "nbformat_minor": 2
}
